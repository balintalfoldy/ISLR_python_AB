{
 "cells": [
  {
   "cell_type": "markdown",
   "id": "126ce3a4",
   "metadata": {},
   "source": [
    "# 3. Linear Regression – Conceptual"
   ]
  },
  {
   "cell_type": "markdown",
   "id": "c9abb74e",
   "metadata": {},
   "source": [
    "**Q1.** Using a little bit of algebra, prove that (4.2) is equivalent to (4.3). In other words, the logistic function representation and logit representation for the logistic regression model are equivalent."
   ]
  },
  {
   "cell_type": "markdown",
   "id": "51cb029f",
   "metadata": {},
   "source": [
    "<img src=\"images\\islr_ch4_q1.png\" alt=\"Drawing\" style=\"width: 300px;\"/>"
   ]
  },
  {
   "cell_type": "markdown",
   "id": "cfde591e",
   "metadata": {},
   "source": [
    "**Q2.** It was stated in the text that classifying an observation to the class for which (4.17) is largest is equivalent to classifying an observation to the class for which (4.18) is largest. Prove that this is the case. In other words, under the assumption that the observations in the kth class are drawn from a N(µk,σ2) distribution, the Bayes classiﬁer assigns an observation to the class for which the discriminant function is maximized"
   ]
  },
  {
   "cell_type": "markdown",
   "id": "bb176f25",
   "metadata": {},
   "source": [
    "<img src=\"images\\islr_ch4_q2.png\" alt=\"Drawing\" style=\"width: 800px;\"/>"
   ]
  },
  {
   "cell_type": "markdown",
   "id": "4d54db22",
   "metadata": {},
   "source": [
    "**Q3\n",
    ".** This problem relates to the QDA model, in which the observations within each class are drawn from a normal distribution with a classspeciﬁc mean vector and a class speciﬁc covariance matrix. We consider the simple case where p = 1; i.e. there is only one feature. Suppose that we have K classes, and that if an observation belongs to the kth class then X comes from a one-dimensional normal distribution, X ∼ N(µk,σ2 k). Recall that the density function for the one-dimensional normal distribution is given in (4.16). Prove that in this case, the Bayes classiﬁer is not linear. Argue that it is in fact quadratic."
   ]
  },
  {
   "cell_type": "markdown",
   "id": "4024b796",
   "metadata": {},
   "source": [
    "<img src=\"images\\islr_ch4_q3.png\" alt=\"Drawing\" style=\"width: 800px;\"/>"
   ]
  },
  {
   "cell_type": "markdown",
   "id": "c7fe988f",
   "metadata": {},
   "source": [
    "**Q4.** When the number of features p is large, there tends to be a deterioration in the performance of KNN and other local approaches that perform prediction using only observations that are near the test observation for which a prediction must be made. This phenomenon is known as the curse of dimensionality, and it ties into the fact that non-parametric approaches often perform poorly when p is large. We will now investigate this curse.\n",
    "\n",
    "(a) Suppose that we have a set of observations, each with measurements on p = 1 feature, X. We assume that X is uniformly (evenly) distributed on [0,1]. Associated with each observation is a response value. Suppose that we wish to predict a test observation’s response using only observations that are within 10% of the range of X closest to that test observation. For instance, in order to predict the response for a test observation with X =0 .6, we will use observations in the range [0.55,0.65]. On average, what fraction of the available observations will we use to make the prediction?\n",
    "\n",
    "<img src=\"images\\islr_ch4_q4a.png\" alt=\"Drawing\" style=\"width: 800px;\"/>\n",
    "\n",
    "(b) Now suppose that we have a set of observations, each with measurements on p = 2 features, X1 and X2. We assume that (X1,X2) are uniformly distributed on [0,1]×[0,1]. We wish to predict a test observation’s response using only observations that are within 10% of the range of X1 and within 10% of the range of X2 closest to that test observation. For instance, in order to predict the response for a test observation with X1 =0 .6 and X2 =0 .35, we will use observations in the range [0.55,0.65] for X1 and in the range [0.3,0.4] for X2. On average, what fraction of the available observations will we use to make the prediction?\n",
    "\n",
    "<img src=\"images\\islr_ch4_q4b.png\" alt=\"Drawing\" style=\"width: 800px;\"/>\n",
    "\n",
    "(c) Now suppose that we have a set of observations on p = 100 features. Again the observations are uniformly distributed on each feature, and again each feature ranges in value from 0 to 1. We wish to predict a test observation’s response using observations within the 10% of each feature’s range that is closest to that test observation. What fraction of the available observations will we use to make the prediction?\n",
    "\n",
    "<img src=\"images\\islr_ch4_q4c.png\" alt=\"Drawing\" style=\"width: 200px;\"/>\n",
    "\n",
    "(d) Using your answers to parts (a)–(c), argue that a drawback of KNN when p is large is that there are very few training observations “near” any given test observation\n",
    "\n",
    "<img src=\"images\\islr_ch4_q4d.png\" alt=\"Drawing\" style=\"width: 900px;\"/>\n",
    "\n",
    "(e) Now suppose that we wish to make a prediction for a test observation by creating a p-dimensional hypercube centered around the test observation that contains, on average, 10% of the training observations. For p =1 ,2, and 100, what is the length of each side of the hypercube? Comment on your answer.\n",
    "\n",
    "Note: A hypercube is a generalization of a cube to an arbitrary number of dimensions. When p =1, a hypercube is simply a line segment, when p =2it is a square, and when p = 100 it is a 100-dimensional cube.\n",
    "\n",
    "<img src=\"images\\islr_ch4_q4e.png\" alt=\"Drawing\" style=\"width: 300px;\"/>"
   ]
  },
  {
   "cell_type": "markdown",
   "id": "b90325b4",
   "metadata": {},
   "source": [
    "**Q5.** We now examine the diﬀerences between LDA and QDA.\n",
    "\n",
    "(a) If the Bayes decision boundary is linear, do we expect LDA or QDA to perform better on the training set? On the test set?\n",
    "\n",
    "If the Bayes decision boundary is linear, we expect QDA to perform better on the training set because its higher flexiblity may yield a closer fit. On the test set, we expect LDA to perform better than QDA, because QDA could overfit the linearity on the Bayes decision boundary.\n",
    "\n",
    "(b) If the Bayes decision boundary is non-linear, do we expect LDA or QDA to perform better on the training set? On the test set?\n",
    "\n",
    "If the Bayes decision bounary is non-linear, we expect QDA to perform better both on the training and test sets. But of course it depends the degree of non linearity.\n",
    "\n",
    "(c) In general, as the sample size n increases, do we expect the test prediction accuracy of QDA relative to LDA to improve, decline, or be unchanged? Why?\n",
    "\n",
    "Improve, as increased sample size reduces the variance of a more flexible models and therefore the tendency to overfit the data.\n",
    "\n",
    "(d) True or False: Even if the Bayes decision boundary for a given problem is linear, we will probably achieve a superior test error rate using QDA rather than LDA because QDA is ﬂexible enough to model a linear decision boundary. Justify your answer.\n",
    "\n",
    "False. If the bayes decision boundary is linear, then a more flexible model is prone to overfit and take account of noise in the training data that will reduce its accuracy in making predictions during test."
   ]
  },
  {
   "cell_type": "markdown",
   "id": "8c506817",
   "metadata": {},
   "source": [
    "**Q6.** Suppose we collect data for a group of students in a statistics class with variables X1 =hours studied, X2 =undergrad GPA, and Y = receive an A. We ﬁt a logistic regression and produce estimated coeﬃcient, β0 =−6, β1 =0 .05, β2 = 1. \n",
    "\n",
    "(a) Estimate the probability that a student who studies for 40h and has an undergrad GPA of 3.5 gets an A in the class.\n",
    "\n",
    "For multiple logistic regression a prediction p(X) is given by \n",
    "\n",
    "$$p(X) = \\frac{\\exp{(β_0+β_1 X_1 + β_2 X_2)}}{1 + \\exp{(β_0+β_1 X_1 + β_2 X_2)}} = \\frac{\\exp{(-6+0.05*40 + 3.5)}}{1 + \\exp{(-6+0.05*40 + 3.5)}} = 0.3775$$\n",
    "\n",
    "(b) How many hours would the student in part (a) need to study to have a 50% chance of getting an A in the class?\n",
    "\n",
    "<img src=\"images\\islr_ch4_q6b.png\" alt=\"Drawing\" style=\"width: 600px;\"/>"
   ]
  },
  {
   "cell_type": "markdown",
   "id": "b06cf52f",
   "metadata": {},
   "source": [
    "**Q7.** Suppose that we wish to predict whether a given stock will issue a dividend this year (“Yes” or “No”) based on X, last year’s percent proﬁt. We examine a large number of companies and discover that the mean value of X for companies that issued a dividend was ¯ X = 10, while the mean for those that didn’t was ¯ X = 0. In addition, the variance of X for these two sets of companies was ˆ σ2 = 36. Finally, 80% of companies issued dividends. Assuming that X follows a normal distribution, predict the probability that a company will issue a dividend this year given that its percentage proﬁt was X = 4 last year.\n",
    "\n",
    "Hint: Recall that the density function for a normal random variable is f(x)= 1 √2πσ2 e−(x−µ)2/2σ2. You will need to use Bayes’ theorem. \n",
    "\n",
    "<img src=\"images\\islr_ch4_q7.png\" alt=\"Drawing\" style=\"width: 600px;\"/>"
   ]
  },
  {
   "cell_type": "markdown",
   "id": "faa98a2d",
   "metadata": {},
   "source": [
    "**Q8.** Suppose that we take a data set, divide it into equally-sized training and test sets, and then try out two diﬀerent classiﬁcation procedures. First we use logistic regression and get an error rate of 20% on the training data and 30% on the test data. Next we use 1-nearest neighbors (i.e. K = 1) and get an average error rate (averaged over both test and training data sets) of 18%. Based on these results, which method should we prefer to use for classiﬁcation of new observations? Why?\n",
    "\n",
    "In the case of KNN with K=1, we have a training error rate of 0% because in this case, we have\n",
    "P(Y=j|X=xi)=I(yi=j)\n",
    "which is equal to 1 if yi=j and 0 if not. We do not make any error on the training data within this setting, that explains the 0% training error rate. However, we have an average error rate of 18% wich implies a test error rate of 36% for KNN which is greater than the test error rate for logistic regression of 30%. So, it is better to choose logistic regression because of its lower test error rate."
   ]
  },
  {
   "cell_type": "markdown",
   "id": "5706fb21",
   "metadata": {},
   "source": [
    "**Q9.** This problem has to do with odds.\n",
    "\n",
    "(a) On average, what fraction of people with an odds of 0.37 of defaulting on their credit card payment will in fact default?\n",
    "\n",
    "$odds = \\frac{p(X)}{1 - p(X)} = 0.37$  \n",
    "\n",
    "Rearranging for p(X)\n",
    "  \n",
    "$p(X) = 0.37 - 0.37p(X)$  \n",
    "  \n",
    "$p(X) = \\frac{0.37}{1 +  0.37} = 0.27$  \n",
    "  \n",
    "(b) Suppose that an individual has a 16% chance of defaulting on her credit card payment. What are the odds that she will default?\n",
    "\n",
    "$odds = \\frac{p(X)}{1 - p(X)} = \\frac{0.16}{1 -  0.16} = 0.19$"
   ]
  },
  {
   "cell_type": "markdown",
   "id": "cc396a8e",
   "metadata": {},
   "source": [
    "**Q10.**  Equation 4.32 derived an expression for log1Pr(Y =k|X=x) Pr(Y =K|X=x)2in thesetting where p>1, so that the mean for the kth class, µk, is a pdimensional vector, and the shared covariance Σ is a p×p matrix. However, in the setting with p = 1, (4.32) takes a simpler form, since the means µ1,...,µK and the variance σ2 are scalars. In this simpler setting, repeat the calculation in (4.32), and provide expressions for ak and bkj in terms of πk, πK, µk, µK, and σ2.\n",
    "\n",
    "<img src=\"images\\islr_ch4_q10.png\" alt=\"Drawing\" style=\"width: 800px;\"/>"
   ]
  },
  {
   "cell_type": "code",
   "execution_count": null,
   "id": "6a70542e",
   "metadata": {},
   "outputs": [],
   "source": []
  }
 ],
 "metadata": {
  "kernelspec": {
   "display_name": "Python 3 (ipykernel)",
   "language": "python",
   "name": "python3"
  },
  "language_info": {
   "codemirror_mode": {
    "name": "ipython",
    "version": 3
   },
   "file_extension": ".py",
   "mimetype": "text/x-python",
   "name": "python",
   "nbconvert_exporter": "python",
   "pygments_lexer": "ipython3",
   "version": "3.8.3"
  }
 },
 "nbformat": 4,
 "nbformat_minor": 5
}
