{
 "cells": [
  {
   "cell_type": "markdown",
   "id": "6a29eb8a",
   "metadata": {},
   "source": [
    "# 3. Linear Regression – Conceptual"
   ]
  },
  {
   "cell_type": "markdown",
   "id": "e528ee71",
   "metadata": {},
   "source": [
    "**Q1.** Using a little bit of algebra, prove that (4.2) is equivalent to (4.3). In other words, the logistic function representation and logit representation for the logistic regression model are equivalent."
   ]
  },
  {
   "cell_type": "markdown",
   "id": "5875e660",
   "metadata": {},
   "source": [
    "<img src=\"images\\islr_ch4_q1.png\" alt=\"Drawing\" style=\"width: 300px;\"/>"
   ]
  },
  {
   "cell_type": "markdown",
   "id": "1bb83ad4",
   "metadata": {},
   "source": [
    "**Q2.** It was stated in the text that classifying an observation to the class for which (4.17) is largest is equivalent to classifying an observation to the class for which (4.18) is largest. Prove that this is the case. In other words, under the assumption that the observations in the kth class are drawn from a N(µk,σ2) distribution, the Bayes classiﬁer assigns an observation to the class for which the discriminant function is maximized"
   ]
  },
  {
   "cell_type": "markdown",
   "id": "a41813ef",
   "metadata": {},
   "source": [
    "<img src=\"images\\islr_ch4_q2.png\" alt=\"Drawing\" style=\"width: 800px;\"/>"
   ]
  },
  {
   "cell_type": "markdown",
   "id": "3c908a18",
   "metadata": {},
   "source": [
    "**Q3\n",
    ".** This problem relates to the QDA model, in which the observations within each class are drawn from a normal distribution with a classspeciﬁc mean vector and a class speciﬁc covariance matrix. We consider the simple case where p = 1; i.e. there is only one feature. Suppose that we have K classes, and that if an observation belongs to the kth class then X comes from a one-dimensional normal distribution, X ∼ N(µk,σ2 k). Recall that the density function for the one-dimensional normal distribution is given in (4.16). Prove that in this case, the Bayes classiﬁer is not linear. Argue that it is in fact quadratic."
   ]
  },
  {
   "cell_type": "markdown",
   "id": "7fca37da",
   "metadata": {},
   "source": [
    "<img src=\"images\\islr_ch4_q3.png\" alt=\"Drawing\" style=\"width: 800px;\"/>"
   ]
  },
  {
   "cell_type": "markdown",
   "id": "2edc516d",
   "metadata": {},
   "source": [
    "**Q4.** When the number of features p is large, there tends to be a deterioration in the performance of KNN and other local approaches that perform prediction using only observations that are near the test observation for which a prediction must be made. This phenomenon is known as the curse of dimensionality, and it ties into the fact that non-parametric approaches often perform poorly when p is large. We will now investigate this curse.\n",
    "\n",
    "(a) Suppose that we have a set of observations, each with measurements on p = 1 feature, X. We assume that X is uniformly (evenly) distributed on [0,1]. Associated with each observation is a response value. Suppose that we wish to predict a test observation’s response using only observations that are within 10% of the range of X closest to that test observation. For instance, in order to predict the response for a test observation with X =0 .6, we will use observations in the range [0.55,0.65]. On average, what fraction of the available observations will we use to make the prediction?\n",
    "\n",
    "<img src=\"images\\islr_ch4_q4a.png\" alt=\"Drawing\" style=\"width: 800px;\"/>\n",
    "\n",
    "(b) Now suppose that we have a set of observations, each with measurements on p = 2 features, X1 and X2. We assume that (X1,X2) are uniformly distributed on [0,1]×[0,1]. We wish to predict a test observation’s response using only observations that are within 10% of the range of X1 and within 10% of the range of X2 closest to that test observation. For instance, in order to predict the response for a test observation with X1 =0 .6 and X2 =0 .35, we will use observations in the range [0.55,0.65] for X1 and in the range [0.3,0.4] for X2. On average, what fraction of the available observations will we use to make the prediction?\n",
    "\n",
    "<img src=\"images\\islr_ch4_q4b.png\" alt=\"Drawing\" style=\"width: 800px;\"/>\n",
    "\n",
    "(c) Now suppose that we have a set of observations on p = 100 features. Again the observations are uniformly distributed on each feature, and again each feature ranges in value from 0 to 1. We wish to predict a test observation’s response using observations within the 10% of each feature’s range that is closest to that test observation. What fraction of the available observations will we use to make the prediction?\n",
    "\n",
    "<img src=\"images\\islr_ch4_q4c.png\" alt=\"Drawing\" style=\"width: 200px;\"/>\n",
    "\n",
    "(d) Using your answers to parts (a)–(c), argue that a drawback of KNN when p is large is that there are very few training observations “near” any given test observation\n",
    "\n",
    "<img src=\"images\\islr_ch4_q4d.png\" alt=\"Drawing\" style=\"width: 900px;\"/>\n",
    "\n",
    "(e) Now suppose that we wish to make a prediction for a test observation by creating a p-dimensional hypercube centered around the test observation that contains, on average, 10% of the training observations. For p =1 ,2, and 100, what is the length of each side of the hypercube? Comment on your answer.\n",
    "\n",
    "Note: A hypercube is a generalization of a cube to an arbitrary number of dimensions. When p =1, a hypercube is simply a line segment, when p =2it is a square, and when p = 100 it is a 100-dimensional cube.\n",
    "\n",
    "<img src=\"images\\islr_ch4_q4e.png\" alt=\"Drawing\" style=\"width: 300px;\"/>"
   ]
  },
  {
   "cell_type": "markdown",
   "id": "9e227b61",
   "metadata": {},
   "source": [
    "**Q5.** We now examine the diﬀerences between LDA and QDA.\n",
    "\n",
    "(a) If the Bayes decision boundary is linear, do we expect LDA or QDA to perform better on the training set? On the test set?\n",
    "\n",
    "If the Bayes decision boundary is linear, we expect QDA to perform better on the training set because its higher flexiblity may yield a closer fit. On the test set, we expect LDA to perform better than QDA, because QDA could overfit the linearity on the Bayes decision boundary.\n",
    "\n",
    "(b) If the Bayes decision boundary is non-linear, do we expect LDA or QDA to perform better on the training set? On the test set?\n",
    "\n",
    "If the Bayes decision bounary is non-linear, we expect QDA to perform better both on the training and test sets. But of course it depends the degree of non linearity.\n",
    "\n",
    "(c) In general, as the sample size n increases, do we expect the test prediction accuracy of QDA relative to LDA to improve, decline, or be unchanged? Why?\n",
    "\n",
    "Improve, as increased sample size reduces the variance of a more flexible models and therefore the tendency to overfit the data.\n",
    "\n",
    "(d) True or False: Even if the Bayes decision boundary for a given problem is linear, we will probably achieve a superior test error rate using QDA rather than LDA because QDA is ﬂexible enough to model a linear decision boundary. Justify your answer.\n",
    "\n",
    "False. If the bayes decision boundary is linear, then a more flexible model is prone to overfit and take account of noise in the training data that will reduce its accuracy in making predictions during test."
   ]
  },
  {
   "cell_type": "markdown",
   "id": "520b1f2e",
   "metadata": {},
   "source": [
    "**Q6.** Suppose we collect data for a group of students in a statistics class with variables X1 =hours studied, X2 =undergrad GPA, and Y = receive an A. We ﬁt a logistic regression and produce estimated coeﬃcient, β0 =−6, β1 =0 .05, β2 = 1. \n",
    "\n",
    "(a) Estimate the probability that a student who studies for 40h and has an undergrad GPA of 3.5 gets an A in the class.\n",
    "\n",
    "For multiple logistic regression a prediction p(X) is given by \n",
    "\n",
    "$$p(X) = \\frac{\\exp{(β_0+β_1 X_1 + β_2 X_2)}}{1 + \\exp{(β_0+β_1 X_1 + β_2 X_2)}} = \\frac{\\exp{(-6+0.05*40 + 3.5)}}{1 + \\exp{(-6+0.05*40 + 3.5)}} = 0.3775$$\n",
    "\n",
    "(b) How many hours would the student in part (a) need to study to have a 50% chance of getting an A in the class?\n",
    "\n",
    "<img src=\"images\\islr_ch4_q6b.png\" alt=\"Drawing\" style=\"width: 600px;\"/>"
   ]
  },
  {
   "cell_type": "markdown",
   "id": "b75301ad",
   "metadata": {},
   "source": [
    "**Q7.** Suppose that we wish to predict whether a given stock will issue a dividend this year (“Yes” or “No”) based on X, last year’s percent proﬁt. We examine a large number of companies and discover that the mean value of X for companies that issued a dividend was ¯ X = 10, while the mean for those that didn’t was ¯ X = 0. In addition, the variance of X for these two sets of companies was ˆ σ2 = 36. Finally, 80% of companies issued dividends. Assuming that X follows a normal distribution, predict the probability that a company will issue a dividend this year given that its percentage proﬁt was X = 4 last year.\n",
    "\n",
    "Hint: Recall that the density function for a normal random variable is f(x)= 1 √2πσ2 e−(x−µ)2/2σ2. You will need to use Bayes’ theorem. \n",
    "\n",
    "<img src=\"images\\islr_ch4_q7.png\" alt=\"Drawing\" style=\"width: 600px;\"/>"
   ]
  },
  {
   "cell_type": "code",
   "execution_count": null,
   "id": "ac6d6ef7",
   "metadata": {},
   "outputs": [],
   "source": []
  },
  {
   "cell_type": "code",
   "execution_count": null,
   "id": "ffa9b7ea",
   "metadata": {},
   "outputs": [],
   "source": []
  }
 ],
 "metadata": {
  "kernelspec": {
   "display_name": "Python 3 (ipykernel)",
   "language": "python",
   "name": "python3"
  },
  "language_info": {
   "codemirror_mode": {
    "name": "ipython",
    "version": 3
   },
   "file_extension": ".py",
   "mimetype": "text/x-python",
   "name": "python",
   "nbconvert_exporter": "python",
   "pygments_lexer": "ipython3",
   "version": "3.8.3"
  }
 },
 "nbformat": 4,
 "nbformat_minor": 5
}
