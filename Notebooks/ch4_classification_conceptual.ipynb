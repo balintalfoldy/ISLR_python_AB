{
 "cells": [
  {
   "cell_type": "markdown",
   "id": "60af6131",
   "metadata": {},
   "source": [
    "# 3. Linear Regression – Conceptual"
   ]
  },
  {
   "cell_type": "markdown",
   "id": "70e122ef",
   "metadata": {},
   "source": [
    "**Q1.** Using a little bit of algebra, prove that (4.2) is equivalent to (4.3). In other words, the logistic function representation and logit representation for the logistic regression model are equivalent."
   ]
  },
  {
   "cell_type": "markdown",
   "id": "d3cb5ab3",
   "metadata": {},
   "source": [
    "<img src=\"images\\islr_ch4_q1.png\" alt=\"Drawing\" style=\"width: 300px;\"/>"
   ]
  },
  {
   "cell_type": "markdown",
   "id": "fb0c14ca",
   "metadata": {},
   "source": [
    "**Q2.** It was stated in the text that classifying an observation to the class for which (4.17) is largest is equivalent to classifying an observation to the class for which (4.18) is largest. Prove that this is the case. In other words, under the assumption that the observations in the kth class are drawn from a N(µk,σ2) distribution, the Bayes classiﬁer assigns an observation to the class for which the discriminant function is maximized"
   ]
  },
  {
   "cell_type": "markdown",
   "id": "6c2621ee",
   "metadata": {},
   "source": [
    "<img src=\"images\\islr_ch4_q2.png\" alt=\"Drawing\" style=\"width: 800px;\"/>"
   ]
  },
  {
   "cell_type": "markdown",
   "id": "c2b1c7c2",
   "metadata": {},
   "source": [
    "**Q3\n",
    ".** This problem relates to the QDA model, in which the observations within each class are drawn from a normal distribution with a classspeciﬁc mean vector and a class speciﬁc covariance matrix. We consider the simple case where p = 1; i.e. there is only one feature. Suppose that we have K classes, and that if an observation belongs to the kth class then X comes from a one-dimensional normal distribution, X ∼ N(µk,σ2 k). Recall that the density function for the one-dimensional normal distribution is given in (4.16). Prove that in this case, the Bayes classiﬁer is not linear. Argue that it is in fact quadratic."
   ]
  },
  {
   "cell_type": "markdown",
   "id": "8d6ab91d",
   "metadata": {},
   "source": [
    "<img src=\"images\\islr_ch4_q3.png\" alt=\"Drawing\" style=\"width: 800px;\"/>"
   ]
  },
  {
   "cell_type": "code",
   "execution_count": null,
   "id": "6c145835",
   "metadata": {},
   "outputs": [],
   "source": []
  }
 ],
 "metadata": {
  "kernelspec": {
   "display_name": "Python 3 (ipykernel)",
   "language": "python",
   "name": "python3"
  },
  "language_info": {
   "codemirror_mode": {
    "name": "ipython",
    "version": 3
   },
   "file_extension": ".py",
   "mimetype": "text/x-python",
   "name": "python",
   "nbconvert_exporter": "python",
   "pygments_lexer": "ipython3",
   "version": "3.8.3"
  }
 },
 "nbformat": 4,
 "nbformat_minor": 5
}
